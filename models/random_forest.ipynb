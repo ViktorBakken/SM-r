{
 "cells": [
  {
   "cell_type": "code",
   "execution_count": 31,
   "metadata": {},
   "outputs": [],
   "source": [
    "import pandas as pd\n",
    "import numpy as np\n",
    "import os\n",
    "from sklearn.ensemble import RandomForestClassifier\n",
    "from sklearn.model_selection import StratifiedKFold, train_test_split, RandomizedSearchCV\n",
    "from sklearn.metrics import f1_score, accuracy_score, recall_score, precision_score, roc_auc_score\n",
    "\n",
    "seed = 42"
   ]
  },
  {
   "cell_type": "code",
   "execution_count": 32,
   "metadata": {},
   "outputs": [
    {
     "name": "stdout",
     "output_type": "stream",
     "text": [
      "<class 'pandas.core.frame.DataFrame'>\n",
      "RangeIndex: 1600 entries, 0 to 1599\n",
      "Data columns (total 15 columns):\n",
      " #   Column       Non-Null Count  Dtype  \n",
      "---  ------       --------------  -----  \n",
      " 0   hour_of_day  1600 non-null   float64\n",
      " 1   day_of_week  1600 non-null   float64\n",
      " 2   month        1600 non-null   float64\n",
      " 3   holiday      1600 non-null   float64\n",
      " 4   weekday      1600 non-null   float64\n",
      " 5   summertime   1600 non-null   float64\n",
      " 6   temp         1600 non-null   float64\n",
      " 7   dew          1600 non-null   float64\n",
      " 8   humidity     1600 non-null   float64\n",
      " 9   precip       1600 non-null   float64\n",
      " 10  snow         1600 non-null   float64\n",
      " 11  snowdepth    1600 non-null   float64\n",
      " 12  windspeed    1600 non-null   float64\n",
      " 13  cloudcover   1600 non-null   float64\n",
      " 14  visibility   1600 non-null   float64\n",
      "dtypes: float64(15)\n",
      "memory usage: 187.6 KB\n"
     ]
    }
   ],
   "source": [
    "#Load data\n",
    "df = pd.read_csv(os.path.abspath(\"../data/normalized_labeled_training_data.csv\"))\n",
    "\n",
    "#Select all columns except the last\n",
    "X = df.iloc[:, :-1]\n",
    "\n",
    "#X = X.drop(['snow', 'snowdepth'], axis=1)\n",
    "\n",
    "#, 'holiday', 'visibility', 'month'\n",
    "\n",
    "#Create day or night variable\n",
    "#X['day_or_night'] = X['hour_of_day'].apply(lambda x: 1 if 0.2608695652173913 <= x < 0.782608695652174 else 0)\n",
    "\n",
    "#X = X.drop(['hour_of_day'], axis=1)\n",
    "\n",
    "#Viktiga hour_of_day, windspeed, temp\n",
    "\n",
    "X.info()\n",
    "\n",
    "#Select label column\n",
    "y = df['increase_stock']\n",
    "\n",
    "X_train, X_test, y_train, y_test = train_test_split(X,y, test_size=0.2, random_state=seed)\n",
    "\n",
    "skf = StratifiedKFold(n_splits=5, shuffle=True, random_state=seed)"
   ]
  },
  {
   "cell_type": "code",
   "execution_count": 33,
   "metadata": {},
   "outputs": [
    {
     "name": "stdout",
     "output_type": "stream",
     "text": [
      "Fitting 5 folds for each of 2000 candidates, totalling 10000 fits\n",
      "Best Parameters:\n",
      "{'n_estimators': 97, 'min_samples_split': 2, 'min_samples_leaf': 1, 'max_depth': 27, 'class_weight': 'balanced', 'bootstrap': False}\n",
      "\n",
      "Best f1_weighted Score: 0.9055\n"
     ]
    }
   ],
   "source": [
    "model = RandomForestClassifier( \n",
    "    random_state=seed,\n",
    "    n_estimators=145,\n",
    "    max_depth=24,\n",
    "    class_weight='balanced_subsample',\n",
    "    min_samples_leaf=1,\n",
    "    min_samples_split=2,\n",
    "    max_features='sqrt',\n",
    "    bootstrap=False,\n",
    "    criterion='gini',\n",
    "    n_jobs=-1\n",
    ")\n",
    "\n",
    "#best_model.fit(X_train, y_train)\n",
    "\n",
    "param_grid = {\n",
    "    'n_estimators': list(np.linspace(50, 155, num=50, dtype=int)),      \n",
    "    'max_depth': list(np.linspace(5, 35, num=20, dtype=int)),              \n",
    "    'min_samples_split': list(np.linspace(2, 20, num=18, dtype=int)),      \n",
    "    'min_samples_leaf': list(np.linspace(1, 8, num=8, dtype=int)),                                   \n",
    "    'bootstrap': [True, False],\n",
    "    'class_weight': ['balanced', 'balanced_subsample']                                        \n",
    "}\n",
    "\n",
    "scoring = [\n",
    "    'f1_weighted',\n",
    "    'accuracy',\n",
    "    'recall_weighted',\n",
    "    'precision_weighted',\n",
    "    'roc_auc'\n",
    "]\n",
    "\n",
    "random_search = RandomizedSearchCV(\n",
    "    estimator=model,\n",
    "    param_distributions=param_grid,\n",
    "    n_iter=2000,\n",
    "    refit='f1_weighted', \n",
    "    cv=skf,\n",
    "    n_jobs=-1,\n",
    "    verbose=3,\n",
    "    return_train_score=False,\n",
    "    random_state=seed,\n",
    ")\n",
    "\n",
    "random_search.fit(X_train, y_train)\n",
    "\n",
    "print(\"Best Parameters:\")\n",
    "print(random_search.best_params_)\n",
    "print(f\"\\nBest {random_search.refit} Score: {random_search.best_score_:.4f}\")\n",
    "\n",
    "best_model = random_search.best_estimator_"
   ]
  },
  {
   "cell_type": "code",
   "execution_count": 34,
   "metadata": {},
   "outputs": [
    {
     "name": "stdout",
     "output_type": "stream",
     "text": [
      "Test Accuracy: 0.8938\n",
      "Test F1-Weighted: 0.8919\n",
      "Test Recall-Weighted: 0.8938\n",
      "Test Precision-Weighted: 0.8905\n",
      "Test ROC AUC: 0.8899\n"
     ]
    }
   ],
   "source": [
    "y_pred = best_model.predict(X_test)\n",
    "y_proba = best_model.predict_proba(X_test)[:, 1]\n",
    "\n",
    "print(f\"Test Accuracy: {accuracy_score(y_test, y_pred):.4f}\")\n",
    "print(f\"Test F1-Weighted: {f1_score(y_test, y_pred, average='weighted'):.4f}\")\n",
    "print(f\"Test Recall-Weighted: {recall_score(y_test, y_pred, average='weighted'):.4f}\")\n",
    "print(f\"Test Precision-Weighted: {precision_score(y_test, y_pred, average='weighted'):.4f}\")\n",
    "print(f\"Test ROC AUC: {roc_auc_score(y_test, y_proba):.4f}\")\n",
    "\n",
    "\n",
    "# Best Parameters: (all features)\n",
    "# {'n_estimators': 145, 'max_depth': 24, 'criterion': 'gini', 'class_weight': 'balanced_subsample', 'bootstrap': False}\n",
    "# Best f1_weighted Score: 0.9062\n",
    "\n",
    "#Best test results\n",
    "# Test Accuracy: 0.8812\n",
    "# Test F1-Weighted: 0.8803\n",
    "# Test Recall-Weighted: 0.8812\n",
    "# Test Precision-Weighted: 0.8794\n",
    "# Test ROC AUC: 0.8886"
   ]
  }
 ],
 "metadata": {
  "kernelspec": {
   "display_name": "Python 3",
   "language": "python",
   "name": "python3"
  },
  "language_info": {
   "codemirror_mode": {
    "name": "ipython",
    "version": 3
   },
   "file_extension": ".py",
   "mimetype": "text/x-python",
   "name": "python",
   "nbconvert_exporter": "python",
   "pygments_lexer": "ipython3",
   "version": "3.11.0"
  }
 },
 "nbformat": 4,
 "nbformat_minor": 2
}
