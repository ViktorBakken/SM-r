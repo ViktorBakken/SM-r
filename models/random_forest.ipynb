{
 "cells": [
  {
   "cell_type": "code",
   "execution_count": 18,
   "metadata": {},
   "outputs": [],
   "source": [
    "import pandas as pd\n",
    "import numpy as np\n",
    "import os\n",
    "import seaborn as sns\n",
    "import matplotlib.pyplot as plt\n",
    "from sklearn.ensemble import RandomForestClassifier\n",
    "from sklearn.model_selection import StratifiedKFold, train_test_split, RandomizedSearchCV\n",
    "from sklearn.metrics import f1_score, accuracy_score, recall_score, precision_score, roc_auc_score\n",
    "from sklearn.preprocessing import StandardScaler\n",
    "from sklearn.pipeline import Pipeline\n",
    "from imblearn.over_sampling import SMOTENC\n",
    "\n",
    "seed = 42"
   ]
  },
  {
   "cell_type": "code",
   "execution_count": 19,
   "metadata": {},
   "outputs": [
    {
     "name": "stdout",
     "output_type": "stream",
     "text": [
      "<class 'pandas.core.frame.DataFrame'>\n",
      "RangeIndex: 1600 entries, 0 to 1599\n",
      "Data columns (total 10 columns):\n",
      " #   Column       Non-Null Count  Dtype  \n",
      "---  ------       --------------  -----  \n",
      " 0   hour_of_day  1600 non-null   int64  \n",
      " 1   day_of_week  1600 non-null   int64  \n",
      " 2   month        1600 non-null   int64  \n",
      " 3   weekday      1600 non-null   int64  \n",
      " 4   summertime   1600 non-null   int64  \n",
      " 5   temp         1600 non-null   float64\n",
      " 6   dew          1600 non-null   float64\n",
      " 7   humidity     1600 non-null   float64\n",
      " 8   windspeed    1600 non-null   float64\n",
      " 9   cloudcover   1600 non-null   float64\n",
      "dtypes: float64(5), int64(5)\n",
      "memory usage: 125.1 KB\n"
     ]
    }
   ],
   "source": [
    "#Load data\n",
    "df = pd.read_csv(os.path.abspath(\"../data/labeled_training_data.csv\"))\n",
    "\n",
    "#Select all columns except the last\n",
    "X = df.iloc[:, :-1]\n",
    "\n",
    "#Create new features\n",
    "#X['day_or_night'] = X['hour_of_day'].apply(lambda x: 1 if 6 <= x < 21 else 0)\n",
    "\n",
    "#X['sky_condition'] = X['visibility'] * X['cloudcover'] + X['precip']\n",
    "\n",
    "#X['normal_day'] = (~((X['summertime'] == 1) | (X['holiday'] == 1) | (X['weekday'] == 0))).astype(int)\n",
    "\n",
    "#X['apparent_temperature'] = X['temp'] + 0.33*(X['humidity']/100*6.105*np.exp(17.27*X['temp']/(237.7+X['temp']))) - 0.70*X['windspeed'] - 4.00\n",
    "\n",
    "#Remove bad features\n",
    "#X = X.drop(['summertime', 'holiday', 'cloudcover', 'visibility', 'snow', 'snowdepth'], axis=1)\n",
    "#X = X.drop(['summertime', 'holiday', 'cloudcover', 'visibility', 'snow', 'snowdepth', 'weekday', 'precip', 'windspeed', 'month', 'day_of_week'], axis=1)\n",
    "X = X.drop(['snow', 'snowdepth', 'holiday', 'visibility', 'precip'], axis=1)\n",
    "\n",
    "X.info()\n",
    "\n",
    "#Select label column\n",
    "y = df['increase_stock']\n",
    "\n",
    "X_train, X_test, y_train, y_test = train_test_split(X,y, test_size=0.2, random_state=seed, stratify=y)\n",
    "\n",
    "# categorical_features = ['hour_of_day', 'day_of_week', 'month', 'weekday', 'summertime']\n",
    "# categorical_indices = [X.columns.get_loc(col) for col in categorical_features]\n",
    "\n",
    "# smote = SMOTENC(random_state=seed, categorical_features=categorical_indices)\n",
    "# X_train, y_train = smote.fit_resample(X_train, y_train)\n",
    "\n",
    "skf = StratifiedKFold(n_splits=5, shuffle=True, random_state=seed)"
   ]
  },
  {
   "cell_type": "code",
   "execution_count": null,
   "metadata": {},
   "outputs": [
    {
     "name": "stdout",
     "output_type": "stream",
     "text": [
      "Fitting 5 folds for each of 2000 candidates, totalling 10000 fits\n",
      "Best Parameters:\n",
      "{'n_estimators': 121, 'min_samples_split': 5, 'min_samples_leaf': 2, 'max_depth': 60}\n",
      "\n",
      "Best True Score: 0.6774\n"
     ]
    }
   ],
   "source": [
    "model = RandomForestClassifier( \n",
    "    random_state=seed,\n",
    "    # n_estimators=145,\n",
    "    # max_depth=24,\n",
    "    #class_weight= 'balanced_subsample',\n",
    "    # min_samples_leaf=1,\n",
    "    # min_samples_split=2,\n",
    "    #bootstrap=True,\n",
    "    #max_features='sqrt',\n",
    "    #criterion='gini',\n",
    "    n_jobs=-1\n",
    ")\n",
    "\n",
    "pipeline = Pipeline([\n",
    "    ('scaler', StandardScaler()),\n",
    "    ('rf', model)])\n",
    "\n",
    "param_dists = {\n",
    "    'n_estimators': np.linspace(90, 200, num=40, dtype=int),      \n",
    "    'max_depth': np.linspace(15, 150, num=40, dtype=int),              \n",
    "    'min_samples_split': np.linspace(2, 10, num=8, dtype=int),      \n",
    "    'min_samples_leaf': np.linspace(1, 8, num=8, dtype=int), \n",
    "    'max_features' : ['sqrt', 'log2'],  \n",
    "    'criterion' : ['gini', 'entropy', 'log_loss'],                             \n",
    "    'bootstrap': [True, False], \n",
    "    'class_weight' : ['balanced_subsample', 'balanced']                                      \n",
    "}\n",
    "\n",
    "random_search = RandomizedSearchCV(\n",
    "    estimator=model,\n",
    "    param_distributions=param_dists,\n",
    "    n_iter=6000,\n",
    "    scoring='f1',\n",
    "    refit=True, \n",
    "    cv=skf,\n",
    "    n_jobs=-1,\n",
    "    verbose=3,\n",
    "    return_train_score=False,\n",
    "    random_state=seed,\n",
    ")\n",
    "\n",
    "random_search.fit(X_train, y_train)\n",
    "\n",
    "print(\"Best Parameters:\")\n",
    "print(random_search.best_params_)\n",
    "print(f\"\\nBest {random_search.refit} Score: {random_search.best_score_:.4f}\")\n",
    "\n",
    "best_model = random_search.best_estimator_"
   ]
  },
  {
   "cell_type": "code",
   "execution_count": 21,
   "metadata": {},
   "outputs": [
    {
     "name": "stdout",
     "output_type": "stream",
     "text": [
      "Test Accuracy: 0.9187\n",
      "Test F1-Weighted: 0.9164\n",
      "Test Recall-Weighted: 0.9187\n",
      "Test Precision-Weighted: 0.9158\n",
      "Test ROC AUC: 0.9538\n",
      "              precision    recall  f1-score   support\n",
      "\n",
      "           0       0.94      0.97      0.95       262\n",
      "           1       0.82      0.71      0.76        58\n",
      "\n",
      "    accuracy                           0.92       320\n",
      "   macro avg       0.88      0.84      0.86       320\n",
      "weighted avg       0.92      0.92      0.92       320\n",
      "\n"
     ]
    }
   ],
   "source": [
    "y_pred = best_model.predict(X_test)\n",
    "y_proba = best_model.predict_proba(X_test)[:, 1]\n",
    "\n",
    "print(f\"Test Accuracy: {accuracy_score(y_test, y_pred):.4f}\")\n",
    "print(f\"Test F1-Weighted: {f1_score(y_test, y_pred, average='weighted'):.4f}\")\n",
    "print(f\"Test Recall-Weighted: {recall_score(y_test, y_pred, average='weighted'):.4f}\")\n",
    "print(f\"Test Precision-Weighted: {precision_score(y_test, y_pred, average='weighted'):.4f}\")\n",
    "print(f\"Test ROC AUC: {roc_auc_score(y_test, y_proba):.4f}\")\n",
    "\n",
    "from sklearn.metrics import classification_report\n",
    "\n",
    "print(classification_report(y_test, y_pred))"
   ]
  },
  {
   "cell_type": "code",
   "execution_count": 22,
   "metadata": {},
   "outputs": [
    {
     "data": {
      "image/png": "[encoded data removed]",
      "text/plain": [
       "<Figure size 1000x600 with 1 Axes>"
      ]
     },
     "metadata": {},
     "output_type": "display_data"
    }
   ],
   "source": [
    "importances = best_model.feature_importances_\n",
    "feature_importances = pd.DataFrame({\n",
    "    'Feature': X.columns,\n",
    "    'Importance': importances\n",
    "}).sort_values(by='Importance', ascending=False)\n",
    "\n",
    "# Plot using Seaborn\n",
    "sns.set_theme(style=\"whitegrid\")\n",
    "plt.figure(figsize=(10, 6))\n",
    "sns.barplot(x='Importance', y='Feature', data=feature_importances, color='skyblue')\n",
    "plt.xlabel('Feature Importance')\n",
    "plt.ylabel('Feature')\n",
    "plt.title('Feature Importances from Random Forest Classifier')\n",
    "plt.show()"
   ]
  }
 ],
 "metadata": {
  "kernelspec": {
   "display_name": "Python 3",
   "language": "python",
   "name": "python3"
  },
  "language_info": {
   "codemirror_mode": {
    "name": "ipython",
    "version": 3
   },
   "file_extension": ".py",
   "mimetype": "text/x-python",
   "name": "python",
   "nbconvert_exporter": "python",
   "pygments_lexer": "ipython3",
   "version": "3.11.0"
  }
 },
 "nbformat": 4,
 "nbformat_minor": 2
}
