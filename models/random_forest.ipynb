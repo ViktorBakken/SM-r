{
 "cells": [
  {
   "cell_type": "code",
   "execution_count": 2,
   "metadata": {},
   "outputs": [],
   "source": [
    "import pandas as pd\n",
    "import numpy as np\n",
    "import os\n",
    "from sklearn.ensemble import RandomForestClassifier\n",
    "from sklearn.model_selection import GridSearchCV, StratifiedKFold, train_test_split, RandomizedSearchCV\n",
    "from sklearn.metrics import f1_score, accuracy_score, recall_score, precision_score, roc_auc_score\n",
    "\n",
    "seed = 42"
   ]
  },
  {
   "cell_type": "code",
   "execution_count": 112,
   "metadata": {},
   "outputs": [
    {
     "name": "stdout",
     "output_type": "stream",
     "text": [
      "<class 'pandas.core.frame.DataFrame'>\n",
      "RangeIndex: 1600 entries, 0 to 1599\n",
      "Data columns (total 5 columns):\n",
      " #   Column       Non-Null Count  Dtype  \n",
      "---  ------       --------------  -----  \n",
      " 0   temp         1600 non-null   float64\n",
      " 1   hour_of_day  1600 non-null   float64\n",
      " 2   windspeed    1600 non-null   float64\n",
      " 3   day_of_week  1600 non-null   float64\n",
      " 4   precip       1600 non-null   float64\n",
      "dtypes: float64(5)\n",
      "memory usage: 62.6 KB\n"
     ]
    }
   ],
   "source": [
    "#Load data\n",
    "df = pd.read_csv(os.path.abspath(\"../data/normalized_labeled_training_data.csv\"))\n",
    "\n",
    "#Select all columns except the last\n",
    "X = df.iloc[:, :-1]\n",
    "\n",
    "#X = X.drop(['snow', 'snowdepth', 'visibility', 'humidity', 'cloudcover', 'weekday','holiday', 'hour_of_day', 'temp'], axis=1)\n",
    "X = X[['temp', 'hour_of_day', 'windspeed', 'day_of_week', 'precip']]\n",
    "\n",
    "#Viktiga hour_of_day, windspeed, temp\n",
    "\n",
    "X.info()\n",
    "\n",
    "#Select label column\n",
    "y = df['increase_stock']\n",
    "\n",
    "X_train, X_test, y_train, y_test = train_test_split(X,y, test_size=0.2, random_state=seed)\n",
    "\n",
    "skf = StratifiedKFold(n_splits=5, shuffle=True, random_state=seed)"
   ]
  },
  {
   "cell_type": "code",
   "execution_count": 113,
   "metadata": {},
   "outputs": [
    {
     "name": "stdout",
     "output_type": "stream",
     "text": [
      "Fitting 5 folds for each of 400 candidates, totalling 2000 fits\n",
      "Best Parameters:\n",
      "{'max_depth': 17, 'n_estimators': 135}\n",
      "\n",
      "Best f1_weighted Score: 0.8964\n"
     ]
    }
   ],
   "source": [
    "model = RandomForestClassifier( \n",
    "    random_state=seed,\n",
    "    # n_estimators=145,\n",
    "    # max_depth=24,\n",
    "    class_weight='balanced_subsample',\n",
    "    min_samples_leaf=1,\n",
    "    min_samples_split=2,\n",
    "    max_features='sqrt',\n",
    "    bootstrap=False,\n",
    "    criterion='gini',\n",
    "    n_jobs=-1\n",
    ")\n",
    "\n",
    "#model.fit(X_train, y_train)\n",
    "\n",
    "param_grid = {\n",
    "    'n_estimators': list(np.linspace(135, 155, num=20, dtype=int)),      \n",
    "    'max_depth': list(np.linspace(15, 35, num=20, dtype=int)),              \n",
    "    #'min_samples_split': list(np.linspace(2, 20, num=18, dtype=int)),      \n",
    "    #'min_samples_leaf': list(np.linspace(1, 8, num=8, dtype=int)),        \n",
    "    #'max_features': ['sqrt', 'log2'],                             \n",
    "    #'bootstrap': [True, False],\n",
    "    #'criterion' : ['gini', 'entropy', 'log_loss'],\n",
    "    #'class_weight': ['balanced', 'balanced_subsample']                                        \n",
    "}\n",
    "\n",
    "scoring = [\n",
    "    'f1_weighted',\n",
    "    'accuracy',\n",
    "    'recall_weighted',\n",
    "    'precision_weighted',\n",
    "    'roc_auc'\n",
    "]\n",
    "\n",
    "grid_search = GridSearchCV(\n",
    "    estimator=model,\n",
    "    param_grid=param_grid,\n",
    "    scoring=scoring,\n",
    "    refit='f1_weighted', \n",
    "    cv=skf,\n",
    "    n_jobs=-1,\n",
    "    verbose=3,\n",
    "    return_train_score=False\n",
    ")\n",
    "\n",
    "# grid_search = RandomizedSearchCV(\n",
    "#     estimator=model,\n",
    "#     param_distributions=param_grid,\n",
    "#     n_iter=6000,\n",
    "#     refit='f1_weighted', \n",
    "#     cv=skf,\n",
    "#     n_jobs=-1,\n",
    "#     verbose=3,\n",
    "#     return_train_score=False,\n",
    "#     random_state=seed,\n",
    "# )\n",
    "\n",
    "grid_search.fit(X_train, y_train)\n",
    "\n",
    "print(\"Best Parameters:\")\n",
    "print(grid_search.best_params_)\n",
    "print(f\"\\nBest {grid_search.refit} Score: {grid_search.best_score_:.4f}\")\n",
    "\n",
    "best_model = grid_search.best_estimator_"
   ]
  },
  {
   "cell_type": "code",
   "execution_count": 114,
   "metadata": {},
   "outputs": [
    {
     "name": "stdout",
     "output_type": "stream",
     "text": [
      "Test Accuracy: 0.8594\n",
      "Test F1-Weighted: 0.8640\n",
      "Test Recall-Weighted: 0.8594\n",
      "Test Precision-Weighted: 0.8703\n",
      "Test ROC AUC: 0.8831\n"
     ]
    }
   ],
   "source": [
    "y_pred = best_model.predict(X_test)\n",
    "y_proba = best_model.predict_proba(X_test)[:, 1]\n",
    "\n",
    "print(f\"Test Accuracy: {accuracy_score(y_test, y_pred):.4f}\")\n",
    "print(f\"Test F1-Weighted: {f1_score(y_test, y_pred, average='weighted'):.4f}\")\n",
    "print(f\"Test Recall-Weighted: {recall_score(y_test, y_pred, average='weighted'):.4f}\")\n",
    "print(f\"Test Precision-Weighted: {precision_score(y_test, y_pred, average='weighted'):.4f}\")\n",
    "print(f\"Test ROC AUC: {roc_auc_score(y_test, y_proba):.4f}\")\n",
    "\n",
    "\n",
    "# Best Parameters:\n",
    "# {'n_estimators': 145, 'max_depth': 24, 'criterion': 'gini', 'class_weight': 'balanced_subsample', 'bootstrap': False}\n",
    "\n",
    "# Best f1_weighted Score: 0.9062\n",
    "\n",
    "\n",
    "# Test Accuracy: 0.8812\n",
    "# Test F1-Weighted: 0.8803\n",
    "# Test Recall-Weighted: 0.8812\n",
    "# Test Precision-Weighted: 0.8794\n",
    "# Test ROC AUC: 0.8886"
   ]
  }
 ],
 "metadata": {
  "kernelspec": {
   "display_name": "Python 3 (ipykernel)",
   "language": "python",
   "name": "python3"
  },
  "language_info": {
   "codemirror_mode": {
    "name": "ipython",
    "version": 3
   },
   "file_extension": ".py",
   "mimetype": "text/x-python",
   "name": "python",
   "nbconvert_exporter": "python",
   "pygments_lexer": "ipython3",
   "version": "3.11.7"
  }
 },
 "nbformat": 4,
 "nbformat_minor": 4
}
