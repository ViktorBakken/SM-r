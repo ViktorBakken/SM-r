{
 "cells": [
  {
   "cell_type": "code",
   "execution_count": 21,
   "metadata": {},
   "outputs": [],
   "source": [
    "import pandas as pd\n",
    "import numpy as np\n",
    "import os\n",
    "from sklearn.dummy import DummyClassifier\n",
    "from sklearn.metrics import f1_score, accuracy_score, recall_score, precision_score, roc_auc_score"
   ]
  },
  {
   "cell_type": "code",
   "execution_count": 22,
   "metadata": {},
   "outputs": [],
   "source": [
    "#Load data\n",
    "df = pd.read_csv(os.path.abspath(\"../data/normalized_labeled_training_data.csv\"))\n",
    "\n",
    "#Select all columns except the last\n",
    "X = df.iloc[:, :-1]\n",
    "#Select label column\n",
    "y = df['increase_stock']"
   ]
  },
  {
   "cell_type": "code",
   "execution_count": 34,
   "metadata": {},
   "outputs": [
    {
     "name": "stdout",
     "output_type": "stream",
     "text": [
      "F1 Score: 0.0\n",
      "Accuracy Score: 0.82\n",
      "Recall Score: nan\n",
      "Precision Score: 0.0\n",
      "ROC AUC Score: nan\n"
     ]
    }
   ],
   "source": [
    "baseline = DummyClassifier(strategy='constant', constant=0)\n",
    "baseline.fit(X,y)\n",
    "\n",
    "preds = baseline.predict(X)\n",
    "\n",
    "print(f\"F1 Score: {f1_score(preds ,y, zero_division=np.nan)}\")\n",
    "print(f\"Accuracy Score: {accuracy_score(preds ,y)}\")\n",
    "print(f\"Recall Score: {recall_score(preds ,y, zero_division=np.nan)}\")\n",
    "print(f\"Precision Score: {precision_score(preds ,y, zero_division=np.nan)}\")\n",
    "try:\n",
    "    print(f\"ROC AUC Score: {roc_auc_score(preds ,y)}\")\n",
    "except ValueError:\n",
    "    print(f\"ROC AUC Score: {np.nan}\")"
   ]
  }
 ],
 "metadata": {
  "kernelspec": {
   "display_name": "Python 3",
   "language": "python",
   "name": "python3"
  },
  "language_info": {
   "codemirror_mode": {
    "name": "ipython",
    "version": 3
   },
   "file_extension": ".py",
   "mimetype": "text/x-python",
   "name": "python",
   "nbconvert_exporter": "python",
   "pygments_lexer": "ipython3",
   "version": "3.11.0"
  }
 },
 "nbformat": 4,
 "nbformat_minor": 2
}
