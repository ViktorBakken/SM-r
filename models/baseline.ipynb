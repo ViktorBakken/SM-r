{
 "cells": [
  {
   "cell_type": "code",
   "execution_count": 20,
   "metadata": {},
   "outputs": [],
   "source": [
    "import pandas as pd\n",
    "import numpy as np\n",
    "import os\n",
    "from sklearn.dummy import DummyClassifier\n",
    "from sklearn.metrics import f1_score, accuracy_score, recall_score, precision_score, roc_auc_score\n",
    "from sklearn.model_selection import train_test_split\n",
    "from sklearn.preprocessing import StandardScaler\n",
    "from sklearn.pipeline import Pipeline\n",
    "\n",
    "seed = 42"
   ]
  },
  {
   "cell_type": "code",
   "execution_count": 21,
   "metadata": {},
   "outputs": [],
   "source": [
    "#Load data\n",
    "df = pd.read_csv(os.path.abspath(\"../data/labeled_training_data.csv\"))\n",
    "\n",
    "#Select all columns except the last\n",
    "X = df.iloc[:, :-1]\n",
    "#Select label column\n",
    "y = df['increase_stock']\n",
    "\n",
    "X_train, X_test, y_train, y_test = train_test_split(X,y,test_size=0.2, stratify=y, random_state=seed)"
   ]
  },
  {
   "cell_type": "code",
   "execution_count": 25,
   "metadata": {},
   "outputs": [
    {
     "name": "stdout",
     "output_type": "stream",
     "text": [
      "F1 Score: 0.23963133640552994\n",
      "Accuracy Score: 0.484375\n",
      "Recall Score: 0.16352201257861634\n",
      "Precision Score: 0.4482758620689655\n",
      "ROC AUC Score: 0.48238212430173055\n"
     ]
    }
   ],
   "source": [
    "baseline = DummyClassifier(strategy='uniform', constant=0, random_state=seed)\n",
    "\n",
    "pipeline = Pipeline([\n",
    "    ('scaler', StandardScaler()),\n",
    "    ('dummy', baseline)])\n",
    "\n",
    "\n",
    "pipeline.fit(X_train,y_train)\n",
    "\n",
    "y_preds = baseline.predict(X_test)\n",
    "\n",
    "print(f\"F1 Score: {f1_score(y_preds ,y_test, zero_division=np.nan)}\")\n",
    "print(f\"Accuracy Score: {accuracy_score(y_preds ,y_test)}\")\n",
    "print(f\"Recall Score: {recall_score(y_preds ,y_test, zero_division=np.nan)}\")\n",
    "print(f\"Precision Score: {precision_score(y_preds ,y_test, zero_division=np.nan)}\")\n",
    "try:\n",
    "    print(f\"ROC AUC Score: {roc_auc_score(y_preds ,y_test)}\")\n",
    "except ValueError:\n",
    "    print(f\"ROC AUC Score: {np.nan}\")"
   ]
  }
 ],
 "metadata": {
  "kernelspec": {
   "display_name": "Python 3",
   "language": "python",
   "name": "python3"
  },
  "language_info": {
   "codemirror_mode": {
    "name": "ipython",
    "version": 3
   },
   "file_extension": ".py",
   "mimetype": "text/x-python",
   "name": "python",
   "nbconvert_exporter": "python",
   "pygments_lexer": "ipython3",
   "version": "3.11.0"
  }
 },
 "nbformat": 4,
 "nbformat_minor": 2
}
