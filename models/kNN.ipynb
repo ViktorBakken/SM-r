{
 "cells": [
  {
   "cell_type": "markdown",
   "id": "2e9a0afd-7c86-45f6-b469-65d6a2a67c60",
   "metadata": {},
   "source": [
    "# K-Nearest Neighbors Classifier Method"
   ]
  },
  {
   "cell_type": "code",
   "execution_count": 258,
   "id": "7451cf9c-4d7e-4405-9d87-7061aab54e25",
   "metadata": {},
   "outputs": [],
   "source": [
    "import pandas as pd\n",
    "import numpy as np\n",
    "import matplotlib.pyplot as plt\n",
    "import os\n",
    "from sklearn.neighbors import KNeighborsClassifier\n",
    "from sklearn.model_selection import train_test_split, GridSearchCV, RandomizedSearchCV, cross_validate, StratifiedKFold\n",
    "from sklearn.metrics import f1_score, accuracy_score, recall_score, precision_score, roc_auc_score\n",
    "from sklearn.pipeline import Pipeline\n",
    "from sklearn.preprocessing import StandardScaler"
   ]
  },
  {
   "cell_type": "code",
   "execution_count": 259,
   "id": "52d61cfa-ce85-4345-939f-68e0fe0919df",
   "metadata": {},
   "outputs": [],
   "source": [
    "#Load data\n",
    "df = pd.read_csv(os.path.abspath(\"../data/normalized_labeled_training_data.csv\"))\n",
    "df_not_normalized = pd.read_csv(os.path.abspath(\"../data/labeled_training_data.csv\"))"
   ]
  },
  {
   "cell_type": "code",
   "execution_count": 260,
   "id": "f50076fa-6e48-4713-b546-b7eef17fc0a8",
   "metadata": {},
   "outputs": [],
   "source": [
    "# Adding features\n",
    "\n",
    "# Day or night\n",
    "df['day_or_night'] = df_not_normalized['hour_of_day'].apply(lambda x: 1 if 8 <= x < 21 else 0)\n",
    "\n",
    "df['cold'] = df_not_normalized['temp'].apply(lambda x: 1 if x <= 8 else 0)\n",
    "\n",
    "df['opt_wind'] = df_not_normalized['windspeed'].apply(lambda x: 1 if 5 < x <= 31 else 0)\n",
    "\n",
    "#df['atemp'] = (243.04 * (np.log(df_not_normalized['humidity']/100)\n",
    "#                        + (17.625 * df_not_normalized['dew']) / (243.04 + df_not_normalized['dew']))) / (17.625 - np.log(df_not_normalized['humidity']/100)\n",
    "#                        - (17.625 * df_not_normalized['dew']) / (243.04 + df_not_normalized['dew']))"
   ]
  },
  {
   "cell_type": "code",
   "execution_count": 261,
   "id": "8f52ffa0-d87f-42ae-bb5c-b4c2fe514805",
   "metadata": {},
   "outputs": [],
   "source": [
    "#df = df.drop([\"summertime\", \"snow\", \"snowdepth\", \"precip\", \"holiday\", \"visibility\"], axis=1)\n",
    "\n",
    "#df = df.drop([\"snow\", \"snowdepth\", \"holiday\", \"visibility\", \"precip\", \"dew\"], axis=1)\n",
    "#df = df.drop([\"snow\", \"snowdepth\", \"holiday\", \"visibility\", \"precip\", \"dew\"], axis=1)\n",
    "#df = df.drop([\"snow\", \"snowdepth\", \"holiday\", \"visibility\", \"precip\", \"dew\", \"cloudcover\"], axis=1)\n",
    "df = df.drop([\"snow\", \"snowdepth\", \"holiday\", \"visibility\", \"precip\", \"dew\", \"cloudcover\"], axis=1)\n",
    "#df = df.drop([\"snow\", \"snowdepth\", \"holiday\", \"visibility\", \"precip\", \"dew\", \"temp\", \"cloudcover\", \"windspeed\"], axis=1)"
   ]
  },
  {
   "cell_type": "code",
   "execution_count": 262,
   "id": "7259513d-b23b-46a2-bd6b-b6cc54dbce47",
   "metadata": {},
   "outputs": [],
   "source": [
    "#Select all columns except the last\n",
    "X = df.drop(columns=[\"increase_stock\"])\n",
    "#Select label column\n",
    "y = df['increase_stock']\n",
    "\n",
    "X_train, X_test, y_train, y_test = train_test_split(X, y, test_size=0.3, random_state=42)\n"
   ]
  },
  {
   "cell_type": "code",
   "execution_count": 263,
   "id": "284cd00b-4bd8-4b22-88c5-7ff58c4c1f4e",
   "metadata": {},
   "outputs": [
    {
     "data": {
      "text/html": [
       "<div>\n",
       "<style scoped>\n",
       "    .dataframe tbody tr th:only-of-type {\n",
       "        vertical-align: middle;\n",
       "    }\n",
       "\n",
       "    .dataframe tbody tr th {\n",
       "        vertical-align: top;\n",
       "    }\n",
       "\n",
       "    .dataframe thead th {\n",
       "        text-align: right;\n",
       "    }\n",
       "</style>\n",
       "<table border=\"1\" class=\"dataframe\">\n",
       "  <thead>\n",
       "    <tr style=\"text-align: right;\">\n",
       "      <th></th>\n",
       "      <th>hour_of_day</th>\n",
       "      <th>day_of_week</th>\n",
       "      <th>month</th>\n",
       "      <th>weekday</th>\n",
       "      <th>summertime</th>\n",
       "      <th>temp</th>\n",
       "      <th>humidity</th>\n",
       "      <th>windspeed</th>\n",
       "      <th>day_or_night</th>\n",
       "      <th>cold</th>\n",
       "      <th>opt_wind</th>\n",
       "    </tr>\n",
       "  </thead>\n",
       "  <tbody>\n",
       "    <tr>\n",
       "      <th>0</th>\n",
       "      <td>0.217391</td>\n",
       "      <td>0.833333</td>\n",
       "      <td>0.000000</td>\n",
       "      <td>0.0</td>\n",
       "      <td>0.0</td>\n",
       "      <td>0.042506</td>\n",
       "      <td>0.450143</td>\n",
       "      <td>0.372146</td>\n",
       "      <td>0</td>\n",
       "      <td>1</td>\n",
       "      <td>1</td>\n",
       "    </tr>\n",
       "    <tr>\n",
       "      <th>1</th>\n",
       "      <td>0.913043</td>\n",
       "      <td>0.666667</td>\n",
       "      <td>0.000000</td>\n",
       "      <td>1.0</td>\n",
       "      <td>0.0</td>\n",
       "      <td>0.174497</td>\n",
       "      <td>0.298905</td>\n",
       "      <td>0.545662</td>\n",
       "      <td>0</td>\n",
       "      <td>1</td>\n",
       "      <td>1</td>\n",
       "    </tr>\n",
       "    <tr>\n",
       "      <th>2</th>\n",
       "      <td>0.913043</td>\n",
       "      <td>0.500000</td>\n",
       "      <td>0.636364</td>\n",
       "      <td>1.0</td>\n",
       "      <td>1.0</td>\n",
       "      <td>0.805369</td>\n",
       "      <td>0.684674</td>\n",
       "      <td>0.000000</td>\n",
       "      <td>0</td>\n",
       "      <td>0</td>\n",
       "      <td>0</td>\n",
       "    </tr>\n",
       "    <tr>\n",
       "      <th>3</th>\n",
       "      <td>0.043478</td>\n",
       "      <td>1.000000</td>\n",
       "      <td>0.000000</td>\n",
       "      <td>0.0</td>\n",
       "      <td>0.0</td>\n",
       "      <td>0.272931</td>\n",
       "      <td>0.522251</td>\n",
       "      <td>0.438356</td>\n",
       "      <td>0</td>\n",
       "      <td>1</td>\n",
       "      <td>1</td>\n",
       "    </tr>\n",
       "    <tr>\n",
       "      <th>4</th>\n",
       "      <td>0.739130</td>\n",
       "      <td>0.000000</td>\n",
       "      <td>0.181818</td>\n",
       "      <td>1.0</td>\n",
       "      <td>0.0</td>\n",
       "      <td>0.465324</td>\n",
       "      <td>0.034031</td>\n",
       "      <td>0.239726</td>\n",
       "      <td>1</td>\n",
       "      <td>0</td>\n",
       "      <td>1</td>\n",
       "    </tr>\n",
       "  </tbody>\n",
       "</table>\n",
       "</div>"
      ],
      "text/plain": [
       "   hour_of_day  day_of_week     month  weekday  summertime      temp  \\\n",
       "0     0.217391     0.833333  0.000000      0.0         0.0  0.042506   \n",
       "1     0.913043     0.666667  0.000000      1.0         0.0  0.174497   \n",
       "2     0.913043     0.500000  0.636364      1.0         1.0  0.805369   \n",
       "3     0.043478     1.000000  0.000000      0.0         0.0  0.272931   \n",
       "4     0.739130     0.000000  0.181818      1.0         0.0  0.465324   \n",
       "\n",
       "   humidity  windspeed  day_or_night  cold  opt_wind  \n",
       "0  0.450143   0.372146             0     1         1  \n",
       "1  0.298905   0.545662             0     1         1  \n",
       "2  0.684674   0.000000             0     0         0  \n",
       "3  0.522251   0.438356             0     1         1  \n",
       "4  0.034031   0.239726             1     0         1  "
      ]
     },
     "execution_count": 263,
     "metadata": {},
     "output_type": "execute_result"
    }
   ],
   "source": [
    "X.head()"
   ]
  },
  {
   "cell_type": "code",
   "execution_count": 264,
   "id": "69c394f3-aa2f-4f3f-ad02-43fd75119bac",
   "metadata": {},
   "outputs": [
    {
     "name": "stdout",
     "output_type": "stream",
     "text": [
      "Tuned model:  Pipeline(steps=[('scaler', StandardScaler()),\n",
      "                ('rf',\n",
      "                 KNeighborsClassifier(algorithm='brute', leaf_size=70,\n",
      "                                      metric='manhattan', n_jobs=-1,\n",
      "                                      n_neighbors=22, p=3,\n",
      "                                      weights='distance'))])\n",
      "Best Parameters: {'rf__weights': 'distance', 'rf__p': 3, 'rf__n_neighbors': 22, 'rf__n_jobs': -1, 'rf__metric': 'manhattan', 'rf__leaf_size': 70, 'rf__algorithm': 'brute'}\n",
      "Best Cross-Validation F1 Score: 0.8901267926197949\n"
     ]
    }
   ],
   "source": [
    "# RANDOM SEARCH\n",
    "skf = StratifiedKFold(n_splits=10, shuffle=True, random_state=42)\n",
    "\n",
    "param_distributions = {\n",
    "    \"rf__n_neighbors\": np.arange(1, 50),\n",
    "    \"rf__weights\": [\"uniform\", \"distance\"],\n",
    "    \"rf__metric\": [\"euclidean\", \"manhattan\", \"chebyshev\", \"minkowski\"],\n",
    "    \"rf__algorithm\": [\"auto\", \"ball_tree\", \"kd_tree\", \"brute\"],\n",
    "    \"rf__leaf_size\": np.arange(10, 100, 10),\n",
    "    \"rf__p\": [1, 2, 3],\n",
    "    \"rf__n_jobs\": [-1],\n",
    "}\n",
    "\n",
    "\n",
    "model = KNeighborsClassifier(\n",
    "    #n_neigbors = 25\n",
    ")\n",
    "\n",
    "pipeline = Pipeline([\n",
    "    ('scaler', StandardScaler()),\n",
    "    ('rf', model)])\n",
    "\n",
    "random_search = RandomizedSearchCV(\n",
    "    estimator=pipeline,\n",
    "    param_distributions=param_distributions,\n",
    "    scoring='f1_weighted',\n",
    "    n_iter=3000,  # Number of random samples to draw\n",
    "    cv=skf,\n",
    "    random_state=42,\n",
    "    n_jobs=-1,\n",
    ")\n",
    "\n",
    "# Fit\n",
    "random_search.fit(X_train, y_train)\n",
    "\n",
    "tuned_model = random_search.best_estimator_\n",
    "\n",
    "print(\"Tuned model: \", tuned_model)\n",
    "print(\"Best Parameters:\", random_search.best_params_)\n",
    "print(\"Best Cross-Validation F1 Score:\", random_search.best_score_)"
   ]
  },
  {
   "cell_type": "code",
   "execution_count": 265,
   "id": "d00f893a-e160-47e3-99a4-02158bc50d77",
   "metadata": {},
   "outputs": [],
   "source": [
    "y_pred  = tuned_model.predict(X_test)\n",
    "y_proba = tuned_model.predict_proba(X_test)[:, 1]"
   ]
  },
  {
   "cell_type": "code",
   "execution_count": 266,
   "id": "6519c099-307d-47b4-84c1-f4ddd9eb8bcd",
   "metadata": {},
   "outputs": [
    {
     "name": "stdout",
     "output_type": "stream",
     "text": [
      "              precision    recall  f1-score   support\n",
      "\n",
      "         0.0       0.92      0.92      0.92       402\n",
      "         1.0       0.60      0.59      0.59        78\n",
      "\n",
      "    accuracy                           0.87       480\n",
      "   macro avg       0.76      0.76      0.76       480\n",
      "weighted avg       0.87      0.87      0.87       480\n",
      "\n",
      "Test Accuracy: 0.8688\n",
      "Test F1-Weighted: 0.8684\n",
      "Test Recall-Weighted: 0.8688\n",
      "Test Precision-Weighted: 0.8681\n",
      "Test ROC AUC: 0.8922\n"
     ]
    }
   ],
   "source": [
    "from sklearn.metrics import classification_report\n",
    "\n",
    "print(classification_report(y_test, y_pred))\n",
    "print(f\"Test Accuracy: {accuracy_score(y_test, y_pred):.4f}\")\n",
    "print(f\"Test F1-Weighted: {f1_score(y_test, y_pred, average='weighted'):.4f}\")\n",
    "print(f\"Test Recall-Weighted: {recall_score(y_test, y_pred, average='weighted'):.4f}\")\n",
    "print(f\"Test Precision-Weighted: {precision_score(y_test, y_pred, average='weighted'):.4f}\")\n",
    "print(f\"Test ROC AUC: {roc_auc_score(y_test, y_proba):.4f}\")"
   ]
  },
  {
   "cell_type": "code",
   "execution_count": 267,
   "id": "6abec927-0567-4395-a7d8-420688c773de",
   "metadata": {
    "scrolled": true
   },
   "outputs": [
    {
     "name": "stdout",
     "output_type": "stream",
     "text": [
      "         feature  importance\n",
      "8   day_or_night    0.304075\n",
      "6       humidity    0.286822\n",
      "0    hour_of_day    0.240677\n",
      "1    day_of_week    0.170449\n",
      "3        weekday    0.166162\n",
      "5           temp    0.153906\n",
      "7      windspeed    0.135266\n",
      "2          month    0.134167\n",
      "4     summertime    0.102938\n",
      "9           cold    0.062699\n",
      "10      opt_wind    0.035036\n"
     ]
    }
   ],
   "source": [
    "from sklearn.inspection import permutation_importance\n",
    "\n",
    "# Perform permutation importance on the final model\n",
    "perm_importance = permutation_importance(tuned_model, X, y, scoring='f1', n_repeats=10, random_state=42)\n",
    "feature_importance = pd.DataFrame({\n",
    "    'feature': X.columns,\n",
    "    'importance': perm_importance.importances_mean\n",
    "}).sort_values(by='importance', ascending=False)\n",
    "\n",
    "print(feature_importance)\n"
   ]
  },
  {
   "cell_type": "code",
   "execution_count": null,
   "id": "d3bf14b4-e243-41cc-a503-ed0c40933236",
   "metadata": {},
   "outputs": [],
   "source": []
  }
 ],
 "metadata": {
  "kernelspec": {
   "display_name": "Python 3 (ipykernel)",
   "language": "python",
   "name": "python3"
  },
  "language_info": {
   "codemirror_mode": {
    "name": "ipython",
    "version": 3
   },
   "file_extension": ".py",
   "mimetype": "text/x-python",
   "name": "python",
   "nbconvert_exporter": "python",
   "pygments_lexer": "ipython3",
   "version": "3.11.7"
  }
 },
 "nbformat": 4,
 "nbformat_minor": 5
}
