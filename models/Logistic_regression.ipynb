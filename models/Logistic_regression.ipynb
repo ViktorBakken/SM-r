{
 "cells": [
  {
   "cell_type": "markdown",
   "metadata": {
    "colab_type": "text",
    "id": "view-in-github"
   },
   "source": [
    "<a href=\"https://colab.research.google.com/github/ViktorBakken/SM-r/blob/main/models/Logistic_regression.ipynb\" target=\"_parent\"><img src=\"https://colab.research.google.com/assets/colab-badge.svg\" alt=\"Open In Colab\"/></a>"
   ]
  },
  {
   "cell_type": "code",
   "execution_count": null,
   "metadata": {},
   "outputs": [
    {
     "ename": "ModuleNotFoundError",
     "evalue": "No module named 'pandas'",
     "output_type": "error",
     "traceback": [
      "\u001b[1;31m---------------------------------------------------------------------------\u001b[0m\n",
      "\u001b[1;31mModuleNotFoundError\u001b[0m                       Traceback (most recent call last)\n",
      "Cell \u001b[1;32mIn[1], line 2\u001b[0m\n",
      "\u001b[0;32m      1\u001b[0m \u001b[38;5;28;01mimport\u001b[39;00m \u001b[38;5;21;01mos\u001b[39;00m\n",
      "\u001b[1;32m----> 2\u001b[0m \u001b[38;5;28;01mimport\u001b[39;00m \u001b[38;5;21;01mpandas\u001b[39;00m \u001b[38;5;28;01mas\u001b[39;00m \u001b[38;5;21;01mpd\u001b[39;00m\n",
      "\u001b[0;32m      3\u001b[0m \u001b[38;5;28;01mimport\u001b[39;00m \u001b[38;5;21;01mnumpy\u001b[39;00m \u001b[38;5;28;01mas\u001b[39;00m \u001b[38;5;21;01mnp\u001b[39;00m\n",
      "\u001b[0;32m      5\u001b[0m \u001b[38;5;28;01mimport\u001b[39;00m \u001b[38;5;21;01msklearn\u001b[39;00m\u001b[38;5;21;01m.\u001b[39;00m\u001b[38;5;21;01mlinear_model\u001b[39;00m \u001b[38;5;28;01mas\u001b[39;00m \u001b[38;5;21;01mskl_lm\u001b[39;00m\n",
      "\n",
      "\u001b[1;31mModuleNotFoundError\u001b[0m: No module named 'pandas'"
     ]
    }
   ],
   "source": [
    "import os\n",
    "import pandas as pd\n",
    "import numpy as np\n",
    "\n",
    "import sklearn.linear_model as skl_lm\n",
    "from sklearn.model_selection import StratifiedKFold, train_test_split, RandomizedSearchCV\n",
    "from sklearn.metrics import f1_score, accuracy_score, recall_score, precision_score, roc_auc_score\n",
    "from sklearn.preprocessing import StandardScaler\n",
    "from sklearn.pipeline import Pipeline\n",
    "from sklearn.model_selection import StratifiedKFold, train_test_split, RandomizedSearchCV\n",
    "\n",
    "from scipy.stats import uniform\n",
    "\n",
    "\n",
    "seed = 42"
   ]
  },
  {
   "cell_type": "code",
   "execution_count": null,
   "metadata": {},
   "outputs": [
    {
     "name": "stdout",
     "output_type": "stream",
     "text": [
      "<class 'pandas.core.frame.DataFrame'>\n",
      "RangeIndex: 1600 entries, 0 to 1599\n",
      "Data columns (total 12 columns):\n",
      " #   Column        Non-Null Count  Dtype  \n",
      "---  ------        --------------  -----  \n",
      " 0   hour_of_day   1600 non-null   float64\n",
      " 1   day_of_week   1600 non-null   float64\n",
      " 2   month         1600 non-null   float64\n",
      " 3   weekday       1600 non-null   float64\n",
      " 4   summertime    1600 non-null   float64\n",
      " 5   temp          1600 non-null   float64\n",
      " 6   humidity      1600 non-null   float64\n",
      " 7   windspeed     1600 non-null   float64\n",
      " 8   cloudcover    1600 non-null   float64\n",
      " 9   day_or_night  1600 non-null   int64  \n",
      " 10  normal_day    1600 non-null   int64  \n",
      " 11  cold          1600 non-null   int64  \n",
      "dtypes: float64(9), int64(3)\n",
      "memory usage: 150.1 KB\n"
     ]
    }
   ],
   "source": [
    "#Load data\n",
    "df = pd.read_csv(os.path.abspath(\"../data/ormalized_labeled_training_data.csv\"))\n",
    "\n",
    "#Select label column\n",
    "y = df['increase_stock']\n",
    "\n",
    "#Select training data\n",
    "X = df[['hour_of_day', 'day_of_week', 'month', 'holiday','weekday','summertime','temp','dew','humidity','precip','snow','snowdepth','windspeed','cloudcover','visibility']]\n",
    "\n",
    "# #Create new features\n",
    "# X['day_or_night'] = X['hour_of_day'].apply(lambda x: 1 if 8 <= x < 21 else 0)\n",
    "# X['normal_day'] = (~((X['summertime'] == 1) | (X['holiday'] == 1) | (X['weekday'] == 0))).astype(int)\n",
    "# X['cold'] = X['temp'].apply(lambda x: 1 if x <= 8 else 0)\n",
    "\n",
    "\n",
    "#Remove bad features\n",
    "X = X.drop(['snow', 'snowdepth', 'holiday', 'visibility', 'precip', 'dew'], axis=1)\n",
    "\n",
    "X.info()\n",
    "\n",
    "#Select label column\n",
    "y = df['increase_stock']\n",
    "\n",
    "X_train, X_test, y_train, y_test = train_test_split(X,y, test_size=0.2, random_state=seed, stratify=y)\n",
    "\n"
   ]
  },
  {
   "cell_type": "code",
   "execution_count": null,
   "metadata": {},
   "outputs": [
    {
     "name": "stdout",
     "output_type": "stream",
     "text": [
      "Fitting 10 folds for each of 3000 candidates, totalling 30000 fits\n",
      "Best Parameters:\n",
      "{'log_reg__C': 9.74755518841459, 'log_reg__penalty': 'l2', 'log_reg__solver': 'lbfgs'}\n",
      "\n",
      "Best True Score: 0.4550\n"
     ]
    }
   ],
   "source": [
    "\n",
    "# Define the pipeline\n",
    "pipeline = Pipeline([\n",
    "    ('scaler', StandardScaler()),\n",
    "    ('log_reg', skl_lm.LogisticRegression(max_iter=1000, random_state=seed))\n",
    "])\n",
    "\n",
    "# Define hyperparameter search space\n",
    "param_distributions = {\n",
    "    'log_reg__C': uniform(0.01, 10),  # C is the inverse of regularization strength\n",
    "    'log_reg__penalty': ['l2'],\n",
    "    'log_reg__solver': ['lbfgs', 'saga']\n",
    "}\n",
    "\n",
    "# Set up cross-validation with 10 folds\n",
    "cv = StratifiedKFold(n_splits=10, shuffle=True, random_state=seed)\n",
    "\n",
    "# RandomizedSearchCV for hyperparameter tuning\n",
    "random_search = RandomizedSearchCV(\n",
    "    estimator=pipeline,\n",
    "    param_distributions=param_distributions,\n",
    "    n_iter=3000,\n",
    "    scoring='f1',\n",
    "    refit=True,\n",
    "    cv=cv,\n",
    "    n_jobs=-1,\n",
    "    verbose=3,\n",
    "    return_train_score=False,\n",
    "    random_state=seed,\n",
    ")\n",
    "\n",
    "# Fit the model using RandomizedSearchCV\n",
    "random_search.fit(X_train, y_train)\n",
    "\n",
    "print(\"Best Parameters:\")\n",
    "print(random_search.best_params_)\n",
    "print(f\"\\nBest {random_search.refit} Score: {random_search.best_score_:.4f}\")\n",
    "\n",
    "\n",
    "# Evaluate the best model on the test set\n",
    "best_model = random_search.best_estimator_\n"
   ]
  },
  {
   "cell_type": "code",
   "execution_count": null,
   "metadata": {},
   "outputs": [],
   "source": [
    "#Prediction\n",
    "y_pred = best_model.predict(X_test)\n",
    "\n",
    "#Probability\n",
    "y_proba = best_model.predict_proba(X_test)[:, 1]\n"
   ]
  },
  {
   "cell_type": "code",
   "execution_count": null,
   "metadata": {},
   "outputs": [
    {
     "name": "stdout",
     "output_type": "stream",
     "text": [
      "F1 Score: 0.5591\n",
      "Accuracy Score: 0.8719\n",
      "Recall Score: 0.4483\n",
      "Precision Score: 0.7429\n",
      "ROC AUC Score: 0.8891\n",
      "\n",
      "              precision    recall  f1-score   support\n",
      "\n",
      "         0.0       0.89      0.97      0.93       262\n",
      "         1.0       0.74      0.45      0.56        58\n",
      "\n",
      "    accuracy                           0.87       320\n",
      "   macro avg       0.82      0.71      0.74       320\n",
      "weighted avg       0.86      0.87      0.86       320\n",
      "\n"
     ]
    }
   ],
   "source": [
    "# Print evaluation metrics\n",
    "print(f\"F1 Score: {f1_score(y_test, y_pred):.4f}\")\n",
    "print(f\"Test F1-Weighted: {f1_score(y_test, y_pred, average='weighted'):.4f}\")\n",
    "print(f\"Recall Score: {recall_score(y_test, y_pred):.4f}\")\n",
    "print(f\"Precision Score: {precision_score(y_test, y_pred):.4f}\")\n",
    "print(f\"ROC AUC Score: {roc_auc_score(y_test, y_proba):.4f}\")\n",
    "\n",
    "from sklearn.metrics import classification_report\n",
    "print(\"\\n\"+ classification_report(y_test, y_pred))"
   ]
  },
  {
   "cell_type": "code",
   "execution_count": 5,
   "metadata": {
    "id": "Y_zRQ09jZPvT"
   },
   "outputs": [],
   "source": [
    "import os\n",
    "import pandas as pd\n",
    "import numpy as np\n",
    "\n",
    "import sklearn.linear_model as skl_lm\n",
    "from sklearn.model_selection import StratifiedKFold, train_test_split, RandomizedSearchCV\n",
    "from sklearn.metrics import f1_score, accuracy_score, recall_score, precision_score, roc_auc_score\n",
    "from sklearn.preprocessing import StandardScaler\n",
    "from sklearn.pipeline import Pipeline\n",
    "from sklearn.model_selection import StratifiedKFold, train_test_split, RandomizedSearchCV\n",
    "\n",
    "from scipy.stats import uniform\n",
    "\n",
    "\n",
    "seed = 42"
   ]
  },
  {
   "cell_type": "code",
   "execution_count": 6,
   "metadata": {
    "colab": {
     "base_uri": "https://localhost:8080/"
    },
    "id": "XZvwr6IrJmcb",
    "outputId": "36bfd765-c984-4eb4-becb-a8e4e8c9881c"
   },
   "outputs": [
    {
     "name": "stdout",
     "output_type": "stream",
     "text": [
      "<class 'pandas.core.frame.DataFrame'>\n",
      "RangeIndex: 1600 entries, 0 to 1599\n",
      "Data columns (total 12 columns):\n",
      " #   Column        Non-Null Count  Dtype  \n",
      "---  ------        --------------  -----  \n",
      " 0   hour_of_day   1600 non-null   float64\n",
      " 1   day_of_week   1600 non-null   float64\n",
      " 2   month         1600 non-null   float64\n",
      " 3   weekday       1600 non-null   float64\n",
      " 4   summertime    1600 non-null   float64\n",
      " 5   temp          1600 non-null   float64\n",
      " 6   humidity      1600 non-null   float64\n",
      " 7   windspeed     1600 non-null   float64\n",
      " 8   cloudcover    1600 non-null   float64\n",
      " 9   day_or_night  1600 non-null   int64  \n",
      " 10  normal_day    1600 non-null   int64  \n",
      " 11  cold          1600 non-null   int64  \n",
      "dtypes: float64(9), int64(3)\n",
      "memory usage: 150.1 KB\n"
     ]
    }
   ],
   "source": [
    "#Load data\n",
    "df = pd.read_csv(os.path.abspath(\"normalized_labeled_training_data.csv\"))\n",
    "\n",
    "#Select label column\n",
    "y = df['increase_stock']\n",
    "\n",
    "#Select training data\n",
    "X = df[['hour_of_day', 'day_of_week', 'month', 'holiday','weekday','summertime','temp','dew','humidity','precip','snow','snowdepth','windspeed','cloudcover','visibility']]\n",
    "\n",
    "#Create new features\n",
    "X['day_or_night'] = X['hour_of_day'].apply(lambda x: 1 if 8 <= x < 21 else 0)\n",
    "X['normal_day'] = (~((X['summertime'] == 1) | (X['holiday'] == 1) | (X['weekday'] == 0))).astype(int)\n",
    "X['cold'] = X['temp'].apply(lambda x: 1 if x <= 8 else 0)\n",
    "\n",
    "\n",
    "#Remove bad features\n",
    "X = X.drop(['snow', 'snowdepth', 'holiday', 'visibility', 'precip', 'dew'], axis=1)\n",
    "\n",
    "X.info()\n",
    "\n",
    "#Select label column\n",
    "y = df['increase_stock']\n",
    "\n",
    "X_train, X_test, y_train, y_test = train_test_split(X,y, test_size=0.2, random_state=seed, stratify=y)\n",
    "\n"
   ]
  },
  {
   "cell_type": "code",
   "execution_count": null,
   "metadata": {
    "colab": {
     "base_uri": "https://localhost:8080/"
    },
    "id": "WqjeSjY_LhIk",
    "outputId": "686604f4-2f58-45b9-bdcb-ac1125a46e76"
   },
   "outputs": [
    {
     "name": "stdout",
     "output_type": "stream",
     "text": [
      "Fitting 10 folds for each of 300 candidates, totalling 3000 fits\n",
      "Best Parameters:\n",
      "{'log_reg__C': 9.74755518841459, 'log_reg__penalty': 'l2', 'log_reg__solver': 'lbfgs'}\n",
      "\n",
      "Best True Score: 0.4550\n"
     ]
    }
   ],
   "source": [
    "\n",
    "# Define the pipeline\n",
    "pipeline = Pipeline([\n",
    "    ('scaler', StandardScaler()),\n",
    "    ('log_reg', skl_lm.LogisticRegression(max_iter=1000, random_state=seed))\n",
    "])\n",
    "\n",
    "# Define hyperparameter search space\n",
    "param_distributions = {\n",
    "    'log_reg__C': uniform(0.01, 10),  # C is the regularization strength\n",
    "    'log_reg__penalty': ['l2'],\n",
    "    'log_reg__solver': ['lbfgs', 'saga']\n",
    "}\n",
    "\n",
    "# Set up cross-validation with 10 folds\n",
    "cv = StratifiedKFold(n_splits=10, shuffle=True, random_state=seed)\n",
    "\n",
    "# RandomizedSearchCV for hyperparameter tuning\n",
    "random_search = RandomizedSearchCV(\n",
    "    estimator=pipeline,\n",
    "    param_distributions=param_distributions,\n",
    "    n_iter=300,\n",
    "    scoring='f1',\n",
    "    refit=True,\n",
    "    cv=cv,\n",
    "    n_jobs=-1,\n",
    "    verbose=3,\n",
    "    return_train_score=False,\n",
    "    random_state=seed,\n",
    ")\n",
    "\n",
    "# Fit the model using RandomizedSearchCV\n",
    "random_search.fit(X_train, y_train)\n",
    "\n",
    "print(\"Best Parameters:\")\n",
    "print(random_search.best_params_)\n",
    "print(f\"\\nBest {random_search.refit} Score: {random_search.best_score_:.4f}\")\n",
    "\n",
    "\n",
    "# Evaluate the best model on the test set\n",
    "best_model = random_search.best_estimator_\n"
   ]
  },
  {
   "cell_type": "code",
   "execution_count": 8,
   "metadata": {
    "id": "lNammXvyRr9O"
   },
   "outputs": [],
   "source": [
    "#Prediction\n",
    "y_pred = best_model.predict(X_test)\n",
    "\n",
    "#Probability\n",
    "y_proba = best_model.predict_proba(X_test)[:, 1]\n"
   ]
  },
  {
   "cell_type": "code",
   "execution_count": 9,
   "metadata": {
    "colab": {
     "base_uri": "https://localhost:8080/"
    },
    "id": "o6zp7rGqJmcb",
    "outputId": "e844d87a-dc0d-4823-ed8e-d49d1bc3c757"
   },
   "outputs": [
    {
     "name": "stdout",
     "output_type": "stream",
     "text": [
      "F1 Score: 0.5591\n",
      "Test F1-Weighted: 0.8587\n",
      "Recall Score: 0.4483\n",
      "Precision Score: 0.7429\n",
      "ROC AUC Score: 0.8891\n",
      "\n",
      "              precision    recall  f1-score   support\n",
      "\n",
      "         0.0       0.89      0.97      0.93       262\n",
      "         1.0       0.74      0.45      0.56        58\n",
      "\n",
      "    accuracy                           0.87       320\n",
      "   macro avg       0.82      0.71      0.74       320\n",
      "weighted avg       0.86      0.87      0.86       320\n",
      "\n"
     ]
    }
   ],
   "source": [
    "# Print evaluation metrics\n",
    "print(f\"F1 Score: {f1_score(y_test, y_pred):.4f}\")\n",
    "print(f\"Test F1-Weighted: {f1_score(y_test, y_pred, average='weighted'):.4f}\")\n",
    "print(f\"Recall Score: {recall_score(y_test, y_pred):.4f}\")\n",
    "print(f\"Precision Score: {precision_score(y_test, y_pred):.4f}\")\n",
    "print(f\"ROC AUC Score: {roc_auc_score(y_test, y_proba):.4f}\")\n",
    "\n",
    "from sklearn.metrics import classification_report\n",
    "print(\"\\n\"+ classification_report(y_test, y_pred))"
   ]
  }
 ],
 "metadata": {
  "colab": {
   "include_colab_link": true,
   "provenance": []
  },
  "kernelspec": {
   "display_name": ".venv",
   "language": "python",
   "name": "python3"
  },
  "language_info": {
   "codemirror_mode": {
    "name": "ipython",
    "version": 3
   },
   "file_extension": ".py",
   "mimetype": "text/x-python",
   "name": "python",
   "nbconvert_exporter": "python",
   "pygments_lexer": "ipython3",
   "version": "3.11.6"
  }
 },
 "nbformat": 4,
 "nbformat_minor": 0
}
