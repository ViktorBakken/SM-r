{
  "cells": [
    {
      "cell_type": "markdown",
      "metadata": {
        "id": "view-in-github",
        "colab_type": "text"
      },
      "source": [
        "<a href=\"https://colab.research.google.com/github/ViktorBakken/SM-r/blob/main/models/Logistic_regression.ipynb\" target=\"_parent\"><img src=\"https://colab.research.google.com/assets/colab-badge.svg\" alt=\"Open In Colab\"/></a>"
      ]
    },
    {
      "cell_type": "code",
      "execution_count": 35,
      "metadata": {
        "id": "Y_zRQ09jZPvT"
      },
      "outputs": [],
      "source": [
        "import os\n",
        "import pandas as pd\n",
        "import numpy as np\n",
        "import matplotlib.pyplot as plt\n",
        "\n",
        "import sklearn.linear_model as skl_lm\n",
        "from sklearn.model_selection import StratifiedKFold, train_test_split, RandomizedSearchCV\n",
        "from sklearn.metrics import f1_score, accuracy_score, recall_score, precision_score, roc_auc_score\n",
        "from sklearn.preprocessing import StandardScaler\n",
        "from sklearn.pipeline import Pipeline\n",
        "from sklearn.model_selection import StratifiedKFold, train_test_split, RandomizedSearchCV\n",
        "\n",
        "from scipy.stats import uniform\n",
        "\n",
        "\n",
        "seed = 42"
      ]
    },
    {
      "cell_type": "code",
      "execution_count": 36,
      "metadata": {
        "id": "XZvwr6IrJmcb",
        "outputId": "e5250f9e-568a-4979-fc45-2b460806ecbd",
        "colab": {
          "base_uri": "https://localhost:8080/"
        }
      },
      "outputs": [
        {
          "output_type": "stream",
          "name": "stdout",
          "text": [
            "<class 'pandas.core.frame.DataFrame'>\n",
            "RangeIndex: 1600 entries, 0 to 1599\n",
            "Data columns (total 12 columns):\n",
            " #   Column        Non-Null Count  Dtype  \n",
            "---  ------        --------------  -----  \n",
            " 0   hour_of_day   1600 non-null   float64\n",
            " 1   day_of_week   1600 non-null   float64\n",
            " 2   month         1600 non-null   float64\n",
            " 3   weekday       1600 non-null   float64\n",
            " 4   summertime    1600 non-null   float64\n",
            " 5   temp          1600 non-null   float64\n",
            " 6   humidity      1600 non-null   float64\n",
            " 7   windspeed     1600 non-null   float64\n",
            " 8   cloudcover    1600 non-null   float64\n",
            " 9   day_or_night  1600 non-null   int64  \n",
            " 10  normal_day    1600 non-null   int64  \n",
            " 11  cold          1600 non-null   int64  \n",
            "dtypes: float64(9), int64(3)\n",
            "memory usage: 150.1 KB\n"
          ]
        }
      ],
      "source": [
        "#Load data\n",
        "df = pd.read_csv(os.path.abspath(\"normalized_labeled_training_data.csv\"))\n",
        "\n",
        "#Select label column\n",
        "y = df['increase_stock']\n",
        "\n",
        "#Select training data\n",
        "X = df[['hour_of_day', 'day_of_week', 'month', 'holiday','weekday','summertime','temp','dew','humidity','precip','snow','snowdepth','windspeed','cloudcover','visibility']]\n",
        "\n",
        "#Create new features\n",
        "X['day_or_night'] = X['hour_of_day'].apply(lambda x: 1 if 8 <= x < 21 else 0)\n",
        "X['normal_day'] = (~((X['summertime'] == 1) | (X['holiday'] == 1) | (X['weekday'] == 0))).astype(int)\n",
        "X['cold'] = X['temp'].apply(lambda x: 1 if x <= 8 else 0)\n",
        "\n",
        "\n",
        "#Remove bad features\n",
        "X = X.drop(['snow', 'snowdepth', 'holiday', 'visibility', 'precip', 'dew'], axis=1)\n",
        "\n",
        "X.info()\n",
        "\n",
        "#Select label column\n",
        "y = df['increase_stock']\n",
        "\n",
        "X_train, X_test, y_train, y_test = train_test_split(X,y, test_size=0.2, random_state=seed, stratify=y)\n",
        "\n"
      ]
    },
    {
      "cell_type": "code",
      "source": [
        "\n",
        "# Define the pipeline\n",
        "pipeline = Pipeline([\n",
        "    ('scaler', StandardScaler()),\n",
        "    ('log_reg', skl_lm.LogisticRegression(max_iter=1000, random_state=seed))\n",
        "])\n",
        "\n",
        "# Define hyperparameter search space\n",
        "param_distributions = {\n",
        "    'log_reg__C': uniform(0.01, 10),  # C is the inverse of regularization strength\n",
        "    'log_reg__penalty': ['l2'],\n",
        "    'log_reg__solver': ['lbfgs', 'saga']\n",
        "}\n",
        "\n",
        "# Set up cross-validation with 10 folds\n",
        "cv = StratifiedKFold(n_splits=10, shuffle=True, random_state=seed)\n",
        "\n",
        "# RandomizedSearchCV for hyperparameter tuning\n",
        "random_search = RandomizedSearchCV(\n",
        "    pipeline,\n",
        "    param_distributions=param_distributions,\n",
        "    n_iter=20,\n",
        "    scoring='f1',\n",
        "    cv=cv,\n",
        "    random_state=seed,\n",
        "    n_jobs=-1)\n",
        "\n",
        "# Fit the model using RandomizedSearchCV\n",
        "random_search.fit(X_train, y_train)\n",
        "\n",
        "# Evaluate the best model on the test set\n",
        "best_model = random_search.best_estimator_\n",
        "y_pred = best_model.predict(X_test)"
      ],
      "metadata": {
        "id": "WqjeSjY_LhIk"
      },
      "execution_count": 37,
      "outputs": []
    },
    {
      "cell_type": "code",
      "execution_count": 38,
      "metadata": {
        "id": "o6zp7rGqJmcb",
        "outputId": "79162bd7-df9a-4553-b55f-6c7c50b51509",
        "colab": {
          "base_uri": "https://localhost:8080/"
        }
      },
      "outputs": [
        {
          "output_type": "stream",
          "name": "stdout",
          "text": [
            "Best Hyperparameters: {'log_reg__C': 9.74755518841459, 'log_reg__penalty': 'l2', 'log_reg__solver': 'lbfgs'}\n",
            "F1 Score: 0.5591\n",
            "Accuracy Score: 0.8719\n",
            "Recall Score: 0.4483\n",
            "Precision Score: 0.7429\n",
            "ROC AUC Score: 0.8891\n"
          ]
        }
      ],
      "source": [
        "# Print evaluation metrics\n",
        "print(f\"Best Hyperparameters: {random_search.best_params_}\")\n",
        "print(f\"F1 Score: {f1_score(y_test, y_pred):.4f}\")\n",
        "print(f\"Accuracy Score: {accuracy_score(y_test, y_pred):.4f}\")\n",
        "print(f\"Recall Score: {recall_score(y_test, y_pred):.4f}\")\n",
        "print(f\"Precision Score: {precision_score(y_test, y_pred):.4f}\")\n",
        "\n",
        "# ROC AUC Score\n",
        "try:\n",
        "    y_proba = best_model.predict_proba(X_test)[:, 1]\n",
        "    print(f\"ROC AUC Score: {roc_auc_score(y_test, y_proba):.4f}\")\n",
        "except ValueError:\n",
        "    print(f\"ROC AUC Score: {np.nan}\")\n"
      ]
    }
  ],
  "metadata": {
    "colab": {
      "provenance": [],
      "include_colab_link": true
    },
    "kernelspec": {
      "display_name": ".venv",
      "language": "python",
      "name": "python3"
    },
    "language_info": {
      "codemirror_mode": {
        "name": "ipython",
        "version": 3
      },
      "file_extension": ".py",
      "mimetype": "text/x-python",
      "name": "python",
      "nbconvert_exporter": "python",
      "pygments_lexer": "ipython3",
      "version": "3.11.6"
    }
  },
  "nbformat": 4,
  "nbformat_minor": 0
}