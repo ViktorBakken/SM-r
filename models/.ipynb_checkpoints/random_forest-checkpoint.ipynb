{
 "cells": [
  {
   "cell_type": "code",
   "execution_count": 44,
   "metadata": {},
   "outputs": [],
   "source": [
    "import pandas as pd\n",
    "import numpy as np\n",
    "import os\n",
    "from sklearn.ensemble import RandomForestClassifier\n",
    "from sklearn.model_selection import train_test_split\n",
    "from sklearn.metrics import f1_score, accuracy_score, recall_score, precision_score, roc_auc_score"
   ]
  },
  {
   "cell_type": "code",
   "execution_count": 45,
   "metadata": {},
   "outputs": [],
   "source": [
    "#Load data\n",
    "df = pd.read_csv(os.path.abspath(\"../data/normalized_labeled_training_data.csv\"))\n",
    "\n",
    "#Select all columns except the last\n",
    "X = df.iloc[:, :-1]\n",
    "#Select label column\n",
    "y = df['increase_stock']\n",
    "\n",
    "X_train, X_test, y_train, y_test = train_test_split(X, y, test_size=0.3, random_state=42)"
   ]
  },
  {
   "cell_type": "code",
   "execution_count": 47,
   "metadata": {},
   "outputs": [
    {
     "name": "stdout",
     "output_type": "stream",
     "text": [
      "F1 Score: 0.6153846153846154\n",
      "Accuracy Score: 0.8854166666666666\n",
      "Recall Score: 0.676923076923077\n",
      "Precision Score: 0.5641025641025641\n",
      "ROC AUC Score: 0.7974976830398518\n"
     ]
    }
   ],
   "source": [
    "model = RandomForestClassifier()\n",
    "model.fit(X_train, y_train)\n",
    "\n",
    "preds = model.predict(X_test)\n",
    "\n",
    "print(f\"F1 Score: {f1_score(preds ,y_test, zero_division=np.nan)}\")\n",
    "print(f\"Accuracy Score: {accuracy_score(preds ,y_test)}\")\n",
    "print(f\"Recall Score: {recall_score(preds ,y_test, zero_division=np.nan)}\")\n",
    "print(f\"Precision Score: {precision_score(preds ,y_test, zero_division=np.nan)}\")\n",
    "try:\n",
    "    print(f\"ROC AUC Score: {roc_auc_score(preds ,y_test)}\")\n",
    "except ValueError:\n",
    "    print(f\"ROC AUC Score: {np.nan}\")"
   ]
  }
 ],
 "metadata": {
  "kernelspec": {
   "display_name": "Python 3 (ipykernel)",
   "language": "python",
   "name": "python3"
  },
  "language_info": {
   "codemirror_mode": {
    "name": "ipython",
    "version": 3
   },
   "file_extension": ".py",
   "mimetype": "text/x-python",
   "name": "python",
   "nbconvert_exporter": "python",
   "pygments_lexer": "ipython3",
   "version": "3.11.7"
  }
 },
 "nbformat": 4,
 "nbformat_minor": 4
}
