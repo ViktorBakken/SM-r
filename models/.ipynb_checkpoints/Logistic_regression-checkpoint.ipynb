{
  "nbformat": 4,
  "nbformat_minor": 0,
  "metadata": {
    "colab": {
      "provenance": [],
      "authorship_tag": "ABX9TyNEAu68RnwlMw+gJKrsuPUl",
      "include_colab_link": true
    },
    "kernelspec": {
      "name": "python3",
      "display_name": "Python 3"
    },
    "language_info": {
      "name": "python"
    }
  },
  "cells": [
    {
      "cell_type": "markdown",
      "metadata": {
        "id": "view-in-github",
        "colab_type": "text"
      },
      "source": [
        "<a href=\"https://colab.research.google.com/github/ViktorBakken/SM-r/blob/main/models/Logistic_regression.ipynb\" target=\"_parent\"><img src=\"https://colab.research.google.com/assets/colab-badge.svg\" alt=\"Open In Colab\"/></a>"
      ]
    },
    {
      "cell_type": "code",
      "execution_count": 3,
      "metadata": {
        "id": "Y_zRQ09jZPvT"
      },
      "outputs": [],
      "source": [
        "# import pandas as pd\n",
        "import os\n",
        "import numpy as np\n",
        "import matplotlib.pyplot as plt\n",
        "\n",
        "import scipy\n",
        "import sklearn.linear_model as skl_lm\n",
        "\n",
        "#from IPython.display import set_matplotlib_formats\n",
        "#set_matplotlib_formats('png')\n",
        "from IPython.core.pylabtools import figsize\n",
        "figsize(10, 6) # Width and hight\n",
        "#plt.style.use('seaborn-white')"
      ]
    },
    {
      "cell_type": "code",
      "source": [
        "biopsy = pd.read_csv(os.path.abspath(\"../data/normalized_labeled_training_data.csv\"))\n",
        "model = skl_lm.LogisticRegression(solver='lbfgs')\n",
        "X_train = biopsy[['hour_of_day', 'day_of_week', 'month', 'holiday','weekday','summertime','temp','dew','humidity','precip','snow','snowdepth','windspeed','cloudcover','visibility']]\n",
        "Y_train = biopsy['increase_stock']\n",
        "\n",
        "model.fit(X_train,Y_train)\n",
        "print(\"Model Summary\")\n",
        "print(model)"
      ],
      "metadata": {
        "id": "8w_FllOPa812",
        "outputId": "70833b24-8740-4ca5-c553-cc9bd739af72",
        "colab": {
          "base_uri": "https://localhost:8080/",
          "height": 248
        }
      },
      "execution_count": 4,
      "outputs": [
        {
          "output_type": "error",
          "ename": "NameError",
          "evalue": "name 'pd' is not defined",
          "traceback": [
            "\u001b[0;31m---------------------------------------------------------------------------\u001b[0m",
            "\u001b[0;31mNameError\u001b[0m                                 Traceback (most recent call last)",
            "\u001b[0;32m<ipython-input-4-70638fdf14e5>\u001b[0m in \u001b[0;36m<cell line: 1>\u001b[0;34m()\u001b[0m\n\u001b[0;32m----> 1\u001b[0;31m \u001b[0mbiopsy\u001b[0m \u001b[0;34m=\u001b[0m \u001b[0mpd\u001b[0m\u001b[0;34m.\u001b[0m\u001b[0mread_csv\u001b[0m\u001b[0;34m(\u001b[0m\u001b[0mos\u001b[0m\u001b[0;34m.\u001b[0m\u001b[0mpath\u001b[0m\u001b[0;34m.\u001b[0m\u001b[0mabspath\u001b[0m\u001b[0;34m(\u001b[0m\u001b[0;34m\"../data/normalized_labeled_training_data.csv\"\u001b[0m\u001b[0;34m)\u001b[0m\u001b[0;34m)\u001b[0m\u001b[0;34m\u001b[0m\u001b[0;34m\u001b[0m\u001b[0m\n\u001b[0m\u001b[1;32m      2\u001b[0m \u001b[0mmodel\u001b[0m \u001b[0;34m=\u001b[0m \u001b[0mskl_lm\u001b[0m\u001b[0;34m.\u001b[0m\u001b[0mLogisticRegression\u001b[0m\u001b[0;34m(\u001b[0m\u001b[0msolver\u001b[0m\u001b[0;34m=\u001b[0m\u001b[0;34m'lbfgs'\u001b[0m\u001b[0;34m)\u001b[0m\u001b[0;34m\u001b[0m\u001b[0;34m\u001b[0m\u001b[0m\n\u001b[1;32m      3\u001b[0m \u001b[0mX_train\u001b[0m \u001b[0;34m=\u001b[0m \u001b[0mbiopsy\u001b[0m\u001b[0;34m[\u001b[0m\u001b[0;34m[\u001b[0m\u001b[0;34m'hour_of_day'\u001b[0m\u001b[0;34m,\u001b[0m \u001b[0;34m'day_of_week'\u001b[0m\u001b[0;34m,\u001b[0m \u001b[0;34m'month'\u001b[0m\u001b[0;34m,\u001b[0m \u001b[0;34m'holiday'\u001b[0m\u001b[0;34m,\u001b[0m\u001b[0;34m'weekday'\u001b[0m\u001b[0;34m,\u001b[0m\u001b[0;34m'summertime'\u001b[0m\u001b[0;34m,\u001b[0m\u001b[0;34m'temp'\u001b[0m\u001b[0;34m,\u001b[0m\u001b[0;34m'dew'\u001b[0m\u001b[0;34m,\u001b[0m\u001b[0;34m'humidity'\u001b[0m\u001b[0;34m,\u001b[0m\u001b[0;34m'precip'\u001b[0m\u001b[0;34m,\u001b[0m\u001b[0;34m'snow'\u001b[0m\u001b[0;34m,\u001b[0m\u001b[0;34m'snowdepth'\u001b[0m\u001b[0;34m,\u001b[0m\u001b[0;34m'windspeed'\u001b[0m\u001b[0;34m,\u001b[0m\u001b[0;34m'cloudcover'\u001b[0m\u001b[0;34m,\u001b[0m\u001b[0;34m'visibility'\u001b[0m\u001b[0;34m]\u001b[0m\u001b[0;34m]\u001b[0m\u001b[0;34m\u001b[0m\u001b[0;34m\u001b[0m\u001b[0m\n\u001b[1;32m      4\u001b[0m \u001b[0mY_train\u001b[0m \u001b[0;34m=\u001b[0m \u001b[0mbiopsy\u001b[0m\u001b[0;34m[\u001b[0m\u001b[0;34m'increase_stock'\u001b[0m\u001b[0;34m]\u001b[0m\u001b[0;34m\u001b[0m\u001b[0;34m\u001b[0m\u001b[0m\n\u001b[1;32m      5\u001b[0m \u001b[0;34m\u001b[0m\u001b[0m\n",
            "\u001b[0;31mNameError\u001b[0m: name 'pd' is not defined"
          ]
        }
      ]
    }
  ]
}