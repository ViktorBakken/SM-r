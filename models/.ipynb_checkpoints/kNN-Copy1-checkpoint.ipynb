{
 "cells": [
  {
   "cell_type": "code",
   "execution_count": 72,
   "id": "7451cf9c-4d7e-4405-9d87-7061aab54e25",
   "metadata": {},
   "outputs": [],
   "source": [
    "import pandas as pd\n",
    "import numpy as np\n",
    "import matplotlib.pyplot as plt\n",
    "import os\n",
    "from sklearn.neighbors import KNeighborsClassifier\n",
    "from sklearn.model_selection import train_test_split, GridSearchCV, cross_validate, StratifiedKFold\n",
    "from sklearn.metrics import f1_score, accuracy_score, recall_score, precision_score, roc_auc_score"
   ]
  },
  {
   "cell_type": "code",
   "execution_count": 65,
   "id": "52d61cfa-ce85-4345-939f-68e0fe0919df",
   "metadata": {},
   "outputs": [],
   "source": [
    "#Load data\n",
    "df = pd.read_csv(os.path.abspath(\"../data/normalized_labeled_training_data.csv\"))\n",
    "df_not_normalized = pd.read_csv(os.path.abspath(\"../data/labeled_training_data.csv\"))"
   ]
  },
  {
   "cell_type": "code",
   "execution_count": 66,
   "id": "f50076fa-6e48-4713-b546-b7eef17fc0a8",
   "metadata": {},
   "outputs": [],
   "source": [
    "# Adding features\n",
    "df['day_or_night'] = df_not_normalized['hour_of_day'].apply(lambda x: 1 if 6 <= x < 18 else 0)"
   ]
  },
  {
   "cell_type": "code",
   "execution_count": 67,
   "id": "8f52ffa0-d87f-42ae-bb5c-b4c2fe514805",
   "metadata": {},
   "outputs": [],
   "source": [
    "# Dropping features\n",
    "df = df.drop([\"snow\", \"snowdepth\", \"holiday\"], axis=1)"
   ]
  },
  {
   "cell_type": "code",
   "execution_count": 68,
   "id": "7259513d-b23b-46a2-bd6b-b6cc54dbce47",
   "metadata": {},
   "outputs": [],
   "source": [
    "#Select all columns except the last\n",
    "X = df.iloc[:, :-1]\n",
    "#Select label column\n",
    "y = df['increase_stock']\n",
    "\n",
    "X_train, X_test, y_train, y_test = train_test_split(X, y, test_size=0.3, random_state=42)"
   ]
  },
  {
   "cell_type": "code",
   "execution_count": 69,
   "id": "a7ad48e3-1bdb-41ed-bf6e-4fc4cd5eaa5c",
   "metadata": {},
   "outputs": [
    {
     "name": "stdout",
     "output_type": "stream",
     "text": [
      "Tuned model:  KNeighborsClassifier(leaf_size=10, metric='euclidean', n_jobs=-1, n_neighbors=1,\n",
      "                     p=1)\n",
      "Best Parameters: {'algorithm': 'auto', 'leaf_size': 10, 'metric': 'euclidean', 'n_jobs': -1, 'n_neighbors': 1, 'p': 1, 'weights': 'uniform'}\n",
      "Best Cross-Validation F1 Score: 1.0\n"
     ]
    }
   ],
   "source": [
    "# Paramaters\n",
    "param_grid = {\n",
    "    \"n_neighbors\": np.arange(1, 50),\n",
    "    \"weights\"    : [\"uniform\", \"distance\"], \n",
    "    \"metric\"     : [\"euclidean\", \"manhattan\"],\n",
    "    \"algorithm\"  : [\"auto\", \"ball_tree\", \"kd_tree\", \"brute\"],\n",
    "    \"leaf_size\"  : np.arange(10, 50, 10),\n",
    "    \"p\"          : [1, 2],\n",
    "    \"n_jobs\"     : [-1],\n",
    "}\n",
    "\n",
    "# Grid search with KNeighborsClassifier using our param_grid. \n",
    "# Optimizes on F1-score (because of our group decision) and does 10-fold CV.\n",
    "grid_search = GridSearchCV(\n",
    "    estimator  = KNeighborsClassifier(),\n",
    "    param_grid = param_grid,\n",
    "    scoring    = \"f1\",\n",
    "    cv         = 10,\n",
    "    n_jobs     = -1\n",
    ")\n",
    "\n",
    "# Fit\n",
    "grid_search.fit(X_train, y_train)\n",
    "\n",
    "tuned_model = grid_search.best_estimator_\n",
    "\n",
    "print(\"Tuned model: \", tuned_model)\n",
    "print(\"Best Parameters:\", grid_search.best_params_)\n",
    "print(\"Best Cross-Validation F1 Score:\", grid_search.best_score_)"
   ]
  },
  {
   "cell_type": "code",
   "execution_count": 73,
   "id": "ef6f3bda-1a63-4a26-8607-5f3491dac436",
   "metadata": {},
   "outputs": [
    {
     "name": "stdout",
     "output_type": "stream",
     "text": [
      "Tuned model:  KNeighborsClassifier(leaf_size=10, metric='euclidean', n_jobs=-1, n_neighbors=1,\n",
      "                     p=1)\n",
      "Best Parameters: {'algorithm': 'auto', 'leaf_size': 10, 'metric': 'euclidean', 'n_jobs': -1, 'n_neighbors': 1, 'p': 1, 'weights': 'uniform'}\n",
      "Best Cross-Validation F1 Score: 1.0\n"
     ]
    }
   ],
   "source": [
    "skf = StratifiedKFold(n_splits=10, shuffle=True, random_state=42)\n",
    "\n",
    "# Paramaters\n",
    "param_grid = {\n",
    "    \"n_neighbors\": np.arange(1, 50),\n",
    "    \"weights\"    : [\"uniform\", \"distance\"], \n",
    "    \"metric\"     : [\"euclidean\", \"manhattan\"],\n",
    "    \"algorithm\"  : [\"auto\", \"ball_tree\", \"kd_tree\", \"brute\"],\n",
    "    \"leaf_size\"  : np.arange(10, 50, 10),\n",
    "    \"p\"          : [1, 2],\n",
    "    \"n_jobs\"     : [-1],\n",
    "}\n",
    "\n",
    "# Grid search with KNeighborsClassifier using our param_grid. \n",
    "# Optimizes on F1-score (because of our group decision) and does 10-fold CV.\n",
    "grid_search = GridSearchCV(\n",
    "    estimator  = KNeighborsClassifier(),\n",
    "    param_grid = param_grid,\n",
    "    scoring    = \"f1\",\n",
    "    cv         = skf,\n",
    "    n_jobs     = -1\n",
    ")\n",
    "\n",
    "# Fit\n",
    "grid_search.fit(X_train, y_train)\n",
    "\n",
    "tuned_model = grid_search.best_estimator_\n",
    "\n",
    "print(\"Tuned model: \", tuned_model)\n",
    "print(\"Best Parameters:\", grid_search.best_params_)\n",
    "print(\"Best Cross-Validation F1 Score:\", grid_search.best_score_)"
   ]
  },
  {
   "cell_type": "code",
   "execution_count": 74,
   "id": "d00f893a-e160-47e3-99a4-02158bc50d77",
   "metadata": {},
   "outputs": [],
   "source": [
    "y_pred  = tuned_model.predict(X_test)\n",
    "y_proba = tuned_model.predict_proba(X_test)[:, 1]"
   ]
  },
  {
   "cell_type": "code",
   "execution_count": 75,
   "id": "6519c099-307d-47b4-84c1-f4ddd9eb8bcd",
   "metadata": {},
   "outputs": [
    {
     "name": "stdout",
     "output_type": "stream",
     "text": [
      "Test Accuracy: 1.0000\n",
      "Test F1-Weighted: 1.0000\n",
      "Test Recall-Weighted: 1.0000\n",
      "Test Precision-Weighted: 1.0000\n",
      "Test ROC AUC: 1.0000\n"
     ]
    }
   ],
   "source": [
    "print(f\"Test Accuracy: {accuracy_score(y_test, y_pred):.4f}\")\n",
    "print(f\"Test F1-Weighted: {f1_score(y_test, y_pred, average='weighted'):.4f}\")\n",
    "print(f\"Test Recall-Weighted: {recall_score(y_test, y_pred, average='weighted'):.4f}\")\n",
    "print(f\"Test Precision-Weighted: {precision_score(y_test, y_pred, average='weighted'):.4f}\")\n",
    "print(f\"Test ROC AUC: {roc_auc_score(y_test, y_proba):.4f}\")"
   ]
  },
  {
   "cell_type": "code",
   "execution_count": null,
   "id": "73ce6fbb-2c5d-4442-ac71-8f1b5bd30b52",
   "metadata": {},
   "outputs": [],
   "source": [
    "# ToDo test\n",
    "# Reducera antal features\n",
    "#      T.ex använd regn, fuktighet osv\n",
    "# Utöka antal parametrar"
   ]
  }
 ],
 "metadata": {
  "kernelspec": {
   "display_name": "Python 3 (ipykernel)",
   "language": "python",
   "name": "python3"
  },
  "language_info": {
   "codemirror_mode": {
    "name": "ipython",
    "version": 3
   },
   "file_extension": ".py",
   "mimetype": "text/x-python",
   "name": "python",
   "nbconvert_exporter": "python",
   "pygments_lexer": "ipython3",
   "version": "3.11.7"
  }
 },
 "nbformat": 4,
 "nbformat_minor": 5
}
