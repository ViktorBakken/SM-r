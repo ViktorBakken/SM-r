{
 "cells": [
  {
   "cell_type": "code",
   "execution_count": 267,
   "metadata": {},
   "outputs": [],
   "source": [
    "import pandas as pd\n",
    "import numpy as np\n",
    "import os\n",
    "from xgboost import XGBClassifier\n",
    "from sklearn.model_selection import GridSearchCV, RandomizedSearchCV, StratifiedKFold\n",
    "from sklearn.model_selection import train_test_split\n",
    "from sklearn.metrics import f1_score, accuracy_score, recall_score, precision_score, roc_auc_score, classification_report\n",
    "from sklearn.preprocessing import StandardScaler\n",
    "from sklearn.pipeline import Pipeline"
   ]
  },
  {
   "cell_type": "code",
   "execution_count": 268,
   "metadata": {},
   "outputs": [],
   "source": [
    "seed = 42\n",
    "\n",
    "#Load data\n",
    "df = pd.read_csv(os.path.abspath(\"../data/labeled_training_data.csv\"))\n",
    "\n",
    "#Select all columns except the last\n",
    "X = df.iloc[:, :-1]\n",
    "\n",
    "#Create new features\n",
    "X['day_or_night'] = X['hour_of_day'].apply(lambda x: 1 if 8 <= x < 21 else 0)\n",
    "\n",
    "X['normal_day'] = (~((X['summertime'] == 1) | (X['holiday'] == 1) | (X['weekday'] == 0))).astype(int)\n",
    "\n",
    "X['cold'] = X['temp'].apply(lambda x: 1 if x <= 8 else 0)\n",
    "\n",
    "#Remove bad features\n",
    "X = X.drop(['snow', 'snowdepth', 'holiday', 'visibility', 'precip', 'dew'], axis=1)\n",
    "\n",
    "#Select target column\n",
    "y = df['increase_stock']\n",
    "\n",
    "X_train, X_test, y_train, y_test = train_test_split(X, y, test_size=0.2, stratify=y, random_state=seed)\n"
   ]
  },
  {
   "cell_type": "code",
   "execution_count": 269,
   "metadata": {},
   "outputs": [],
   "source": [
    "model = XGBClassifier(\n",
    "    random_state=seed,\n",
    "    eval_metric='logloss'\n",
    ")\n"
   ]
  },
  {
   "cell_type": "code",
   "execution_count": 270,
   "metadata": {},
   "outputs": [
    {
     "name": "stdout",
     "output_type": "stream",
     "text": [
      "Fitting 5 folds for each of 3000 candidates, totalling 15000 fits\n",
      "Best Parameters:\n",
      "{'xg__min_child_weight': np.int64(7), 'xg__max_depth': np.int64(42), 'xg__learning_rate': np.float64(0.2), 'xg__lambda': np.float64(1.0), 'xg__gamma': np.float64(2.5), 'xg__alpha': np.float64(2.5)}\n",
      "\n",
      "Best Score: 0.8868\n"
     ]
    }
   ],
   "source": [
    "pipeline = Pipeline([\n",
    "    ('scaler', StandardScaler()),\n",
    "    ('xg', model)])\n",
    "\n",
    "\n",
    "skf = StratifiedKFold(n_splits=5, shuffle=True, random_state=seed)\n",
    "\n",
    "\n",
    "param_grid = {\n",
    "    'xg__max_depth': list(np.linspace(40, 50, num=5, dtype=int)),        \n",
    "    'xg__min_child_weight': list(np.linspace(7, 8, num=5, dtype=int)), \n",
    "    'xg__learning_rate': list(np.linspace(0.01, 0.2, num=5)), \n",
    "    'xg__gamma': list(np.linspace(0, 10, num=5)),  \n",
    "    'xg__lambda': list(np.linspace(1, 30, num=4)),  \n",
    "    'xg__alpha': list(np.linspace(0, 5, num=3)), \n",
    "}\n",
    "\n",
    "scoring = [\n",
    "    'f1_weighted',\n",
    "    'accuracy',\n",
    "    'recall_weighted',\n",
    "    'precision_weighted',\n",
    "    'roc_auc'\n",
    "]\n",
    "\n",
    "\n",
    "#Perform randomized search over the parameter grid \n",
    "random_search = RandomizedSearchCV(\n",
    "    estimator=pipeline,\n",
    "    param_distributions=param_grid,\n",
    "    n_iter=3000,\n",
    "    scoring='f1_weighted',\n",
    "    refit=True, \n",
    "    cv=skf,\n",
    "    n_jobs=-1,\n",
    "    verbose=3,\n",
    "    return_train_score=False,\n",
    "    random_state=seed,\n",
    ")\n",
    "\n",
    "\n",
    "random_search.fit(X_train, y_train)\n",
    "\n",
    "print(\"Best Parameters:\")\n",
    "print(random_search.best_params_)\n",
    "print(f\"\\nBest Score: {random_search.best_score_:.4f}\")\n",
    "\n",
    "best_model = random_search.best_estimator_\n",
    "\n",
    "\n",
    "# #Perform grid search over the parameter grid \n",
    "# grid_search = GridSearchCV(\n",
    "#     estimator=model,\n",
    "#     param_grid=param_grid,\n",
    "#     scoring=scoring,           \n",
    "#     refit='f1_weighted',       \n",
    "#     cv=5,                      \n",
    "#     n_jobs=-1,                \n",
    "#     verbose=3,                 \n",
    "#     return_train_score=False  \n",
    "# )\n",
    "\n",
    "# grid_search.fit(X_train, y_train)\n",
    "\n",
    "# # Print best parameters and scores\n",
    "# print(\"Best Parameters:\", grid_search.best_params_)\n",
    "# print(f\"Best F1-Weighted Score: {grid_search.best_score_:.4f}\")\n",
    "\n",
    "# # Retrieve the best model\n",
    "# best_model = grid_search.best_estimator_"
   ]
  },
  {
   "cell_type": "code",
   "execution_count": 271,
   "metadata": {},
   "outputs": [
    {
     "name": "stdout",
     "output_type": "stream",
     "text": [
      "Test Accuracy: 0.9250\n",
      "Test F1-Weighted: 0.9215\n",
      "Test Recall-Weighted: 0.9250\n",
      "Test Precision-Weighted: 0.9226\n",
      "Test ROC AUC: 0.9505\n",
      "              precision    recall  f1-score   support\n",
      "\n",
      "           0       0.93      0.98      0.96       262\n",
      "           1       0.87      0.69      0.77        58\n",
      "\n",
      "    accuracy                           0.93       320\n",
      "   macro avg       0.90      0.83      0.86       320\n",
      "weighted avg       0.92      0.93      0.92       320\n",
      "\n"
     ]
    }
   ],
   "source": [
    "y_pred = best_model.predict(X_test)\n",
    "y_proba = best_model.predict_proba(X_test)[:, 1]\n",
    "\n",
    "print(f\"Test Accuracy: {accuracy_score(y_test, y_pred):.4f}\")\n",
    "print(f\"Test F1-Weighted: {f1_score(y_test, y_pred, average='weighted'):.4f}\")\n",
    "print(f\"Test Recall-Weighted: {recall_score(y_test, y_pred, average='weighted'):.4f}\")\n",
    "print(f\"Test Precision-Weighted: {precision_score(y_test, y_pred, average='weighted'):.4f}\")\n",
    "print(f\"Test ROC AUC: {roc_auc_score(y_test, y_proba):.4f}\")\n",
    "\n",
    "print(classification_report(y_test, y_pred))"
   ]
  }
 ],
 "metadata": {
  "kernelspec": {
   "display_name": "Python 3",
   "language": "python",
   "name": "python3"
  },
  "language_info": {
   "codemirror_mode": {
    "name": "ipython",
    "version": 3
   },
   "file_extension": ".py",
   "mimetype": "text/x-python",
   "name": "python",
   "nbconvert_exporter": "python",
   "pygments_lexer": "ipython3",
   "version": "3.12.2"
  }
 },
 "nbformat": 4,
 "nbformat_minor": 2
}
